{
 "cells": [
  {
   "cell_type": "markdown",
   "metadata": {},
   "source": [
    "# <span style=\"color:green\"> Numerical Simulation Laboratory (NSL) </span>\n",
    "## <span style=\"color:blue\">  Numerical exercises 8</span>\n"
   ]
  },
  {
   "cell_type": "markdown",
   "metadata": {},
   "source": [
    "The variational principle in Quantum Mechanics states that the expectation value of the Hamiltonian over a (good) trial quantum state has the ground state energy $E_0$ as lower bound:\n",
    "\n",
    "$$\n",
    "\\langle {\\hat H} \\rangle_T = \n",
    "\\frac{\\int dx \\Psi^*_T(x) {\\hat H} \\Psi_T(x)}\n",
    "{\\int dx |\\Psi_T(x)|^2} \\ge E_0 =\n",
    "\\frac{\\langle \\Psi_0| {\\hat H} | \\Psi_0 \\rangle}\n",
    "{\\langle \\Psi_0 | \\Psi_0 \\rangle}\n",
    "$$\n",
    "\n",
    "During this exercise you will variationally optimize the ground state of a single quantum particle in a one dimensional (1D) space confined by the following external potential:\n",
    "$$\n",
    "V(x) = x^4 - \\frac{5}{2}x^2\n",
    "$$\n",
    "\n",
    "This 1D quantum model is not analytically solvable and should be attacked by numerical methods. In order to obtain an approximate wave function for the ground state, the Variational Monte Carlo method uses a trial wave function, parametrized by a set of variational parameters. An approximate model for the ground state wave function is the following trial wave function:\n",
    "$$\n",
    "\\Psi_T^{\\sigma,\\mu}(x) \\propto e^{-\\frac{(x-\\mu)^2}{2\\sigma^2}}+\n",
    "                               e^{-\\frac{(x+\\mu)^2}{2\\sigma^2}}\n",
    "$$\n",
    "\n",
    "$\\Psi_T^{\\sigma,\\mu}(x)$ depends on <span style=\"color:red\">two variational parameters: $\\sigma$ and $\\mu$</span>."
   ]
  },
  {
   "cell_type": "markdown",
   "metadata": {},
   "source": [
    "### Exercise 08.1\n",
    "\n",
    "Write a Variational Monte Carlo code for a single quantum particle in 1D which exploits the Metropolis algorithm to sample the square modulus of our trial wave function $|\\Psi_T^{\\sigma,\\mu}(x)|^2$ using an uniform transition probability $T(x_{new}|x_{old})$. By using data blocking, the code should be able to compute the expectation value for the Hamiltonian\n",
    "\n",
    "$$\n",
    "\\langle {\\hat H} \\rangle_T = \n",
    "\\frac{\\int dx \\Psi^*_T(x) {\\hat H} \\Psi_T(x)}\n",
    "{\\int dx |\\Psi_T(x)|^2} = \n",
    "\\int dx \\frac{|\\Psi_T(x)|^2}{\\int dx |\\Psi_T(x)|^2} \\frac{{\\hat H} \\Psi_T(x)}{\\Psi_T(x)}\n",
    "$$\n",
    "\n",
    "which can be used to find the parameters that minimize this quantity. Use $\\hbar = 1$ and $m=1$.\n",
    "<span style=\"color:red\">Note that to measure $\\langle {\\hat H} \\rangle_T$ you need the analytical calculation of:</span>\n",
    "    \n",
    "$$\n",
    "\\frac{{-\\frac{\\hbar^2}{2m}\\frac{\\partial^2}{\\partial x^2}} \\Psi_T^{\\sigma,\\mu}(x)}{\\Psi_T^{\\sigma,\\mu}(x)}\n",
    "$$"
   ]
  },
  {
   "cell_type": "markdown",
   "metadata": {},
   "source": [
    "### Exercise 08.2\n",
    "\n",
    "To find the parameters $\\sigma$ and $\\mu$ which minimize $\\langle {\\hat H} \\rangle_T$, extend your Variational Monte Carlo code to face the variational optimization problem via a <span style=\"color:red\">Simulated Annealing (SA) algorithm</span>.\n",
    "\n",
    "Choose an appropriate starting temperature for your SA algorithm and an appropriate temperature-update-law to make the optimization work.\n",
    "\n",
    "Compute $\\langle {\\hat H} \\rangle_T$ with enough statistics in order to be able to measure the lowering of $\\langle {\\hat H} \\rangle_T$ once the variational parameters are moved."
   ]
  },
  {
   "cell_type": "markdown",
   "metadata": {},
   "source": [
    "- <span style=\"color:red\">Show a picture of $\\langle {\\hat H} \\rangle_T$ (with statistical uncertainties) as a function of the SA steps of the algorithm</span>\n",
    "- you could also show a picture of the trajectory of the SA algorithm in the variational parameter space as a function of the SA steps\n",
    "- <span style=\"color:red\">show a picture of the estimation of $\\langle {\\hat H} \\rangle_T$ </span> and its statistical uncertainty as a function of the number of blocks/MC steps <span style=\"color:red\">for the set of parameters which minimize $\\langle {\\hat H} \\rangle_T$</span>\n",
    "- <span style=\"color:red\">show also a picture **of the sampled** $|\\Psi_T(x)|^2$</span> by filling a histogram with the sampled configurations, moreover compare it with the analytic curve of $|\\Psi_T(x)|^2$ and with the numerical solution obtained by transforming the Schrodinger equation into a matrix equation (see below the supplementary material)."
   ]
  },
  {
   "cell_type": "markdown",
   "metadata": {},
   "source": [
    "### <span style=\"color:green\">Supplementary material</span>\n",
    "\n",
    "How can we describe a wave function as a vector? We set up a lattice of discrete points, spaced by a constant distance $dx$, and record the value of the function at each lattice point. In this way the wave function, $\\Psi(x)$ become a vector:\n",
    "\n",
    "$$\n",
    "\\Psi(x) \\to \\left[ \\Psi(x_1), \\Psi(x_2), ..., \\Psi(x_N) \\right] = \n",
    "\\left[ \\Psi_1, \\Psi_2, ..., \\Psi_N \\right]\n",
    "$$\n",
    "\n",
    "The time independent Schrodinger equation \n",
    "\n",
    "$$\n",
    "{\\hat H} \\Psi(x) = \\left( -\\frac{\\hbar^2}{2m}\\frac{\\partial^2}{\\partial x^2} + V(x) \\right) \\Psi(x) = E \\Psi(x)\n",
    "$$\n",
    "\n",
    "can be written in matrix form. But how do we write the second derivative at a particular point? Let's start with the first derivatives:\n",
    "$$\n",
    "\\frac{\\partial}{\\partial x} \\Psi\\left(x=(x_i+x_{i+1})/2\\right) \\simeq \\frac{\\Psi_{i+1}-\\Psi_{i}}{dx}\\\\\n",
    "\\frac{\\partial}{\\partial x} \\Psi\\left(x=(x_i+x_{i-1})/2\\right) \\simeq \\frac{\\Psi_{i}-\\Psi_{i-1}}{dx}\n",
    "$$\n",
    "\n",
    "Thus, we can discretize the second derivative in the following way:\n",
    "$$\n",
    "\\frac{\\partial^2}{\\partial x^2} \\Psi(x=x_i) =\n",
    "\\frac{\\frac{\\partial}{\\partial x} \\Psi\\left(x=(x_i+x_{i+1})/2\\right) - \\frac{\\partial}{\\partial x} \\Psi\\left(x=(x_i+x_{i-1})/2\\right)}{dx} =\n",
    "\\frac{\\Psi_{i+1}-2\\Psi_{i}+\\Psi_{i-1}}{dx^2}\n",
    "$$\n",
    "\n",
    "We finally obtain:\n",
    "\n",
    "$$\n",
    "\\begin{bmatrix}\n",
    " \\frac{\\hbar^2}{m\\,dx^2}+V(x_1)& -\\frac{\\hbar^2}{2m\\,dx^2} & 0 & \\dots  & 0 \\\\\n",
    "-\\frac{\\hbar^2}{2m\\,dx^2} & \\frac{\\hbar^2}{m\\,dx^2}+V(x_2) & -\\frac{\\hbar^2}{2m\\,dx^2} & \\dots  & 0 \\\\\n",
    " 0                        & -\\frac{\\hbar^2}{2m\\,dx^2} & \\frac{\\hbar^2}{m\\,dx^2}+V(x_3) & \\dots  & 0 \\\\\n",
    " \\vdots                   & \\vdots                    & \\vdots & \\ddots & \\vdots \\\\\n",
    " 0                    & 0                & 0 & \\dots  & \\frac{\\hbar^2}{m\\,dx^2}+V(x_N)\n",
    "\\end{bmatrix}\n",
    "\\begin{bmatrix}\n",
    "\\Psi_{1} \\\\\n",
    "\\Psi_{2} \\\\\n",
    "\\vdots \\\\\n",
    "\\Psi_{N}\n",
    "\\end{bmatrix}\n",
    "= E\n",
    "\\begin{bmatrix}\n",
    "\\Psi_{1} \\\\\n",
    "\\Psi_{2} \\\\\n",
    "\\vdots \\\\\n",
    "\\Psi_{N}\n",
    "\\end{bmatrix}\n",
    "$$\n",
    "\n",
    "To solve the time independent Schrodinger equation we therefore have to find eigenstates and eigenvalues of the matrix just obtained."
   ]
  },
  {
   "cell_type": "code",
   "execution_count": 3,
   "metadata": {},
   "outputs": [
    {
     "name": "stdout",
     "output_type": "stream",
     "text": [
      "Ground state energy:  -0.46046587969271535\n",
      "1st excited state energy:  0.09742471331761199\n",
      "2nd excited state energy:  1.971733134393021\n"
     ]
    },
    {
     "data": {
      "image/png": "[encoded data removed]",
      "text/plain": [
       "<Figure size 576x360 with 1 Axes>"
      ]
     },
     "metadata": {
      "needs_background": "light"
     },
     "output_type": "display_data"
    }
   ],
   "source": [
    "import numpy as np\n",
    "import matplotlib.pyplot as plt\n",
    "\n",
    "def Vpot(x):\n",
    "    return (x**2 - 2.5)*x**2\n",
    "    #return 0.5*x**2\n",
    "\n",
    "hbar = 1\n",
    "m = 1\n",
    "a = 10\n",
    "N = 1000 # number of iterations\n",
    "\n",
    "# Step sizes\n",
    "x = np.linspace(-a/2, a/2, N)\n",
    "dx = x[1] - x[0] # the step size\n",
    "V = Vpot(x)\n",
    "mu=0.9\n",
    "sigma=0.6\n",
    "# The central differences method: f\" = (f_1 - 2*f_0 + f_-1)/dx^2\n",
    "\n",
    "CDiff = np.diag(np.ones(N-1),-1)-2*np.diag(np.ones(N),0)+np.diag(np.ones(N-1),1)\n",
    "# np.diag(np.array,k) construct a \"diagonal\" matrix using the np.array\n",
    "# The default is k=0. Use k>0 for diagonals above the main diagonal, \n",
    "# and k<0 for diagonals below the main diagonal\n",
    "\n",
    "# Hamiltonian matrix\n",
    "H = (-(hbar**2)*CDiff)/(2*m*dx**2) + np.diag(V)\n",
    "\n",
    "# Compute eigenvectors and their eigenvalues\n",
    "E,psi = np.linalg.eigh(H)\n",
    "\n",
    "# Take the transpose & normalize\n",
    "psi = np.transpose(psi)\n",
    "psi = psi/np.sqrt(dx)\n",
    "\n",
    "print(\"Ground state energy: \", E[0])\n",
    "print(\"1st excited state energy: \", E[1])\n",
    "print(\"2nd excited state energy: \", E[2])\n",
    "\n",
    "# Plot a few things\n",
    "plt.figure(figsize=(8,5))\n",
    "scale = 0.3\n",
    "plt.plot(x, scale*V, color=\"Black\", label=\"Potential\") # plot the potential\n",
    "plt.plot(x,(psi[0])**2)\n",
    "plt.plot(x,0.5*(np.exp((-(x-mu)**2)/(2*sigma**2))+np.exp((-(x+mu)**2)/(2*sigma**2)))/1.3, label='func')\n",
    "\n",
    "#plt.plot(x,(psi[1])**2)\n",
    "#plt.plot(x,(psi[2])**2)\n",
    "plt.title(\"Potential & Probabilities\")\n",
    "plt.xlabel(\"x\")\n",
    "plt.grid(True)\n",
    "plt.xlim((-3,3))\n",
    "plt.ylim((-0.6,0.6))\n",
    "plt.legend()\n",
    "plt.show()"
   ]
  },
  {
   "cell_type": "code",
   "execution_count": 4,
   "metadata": {},
   "outputs": [
    {
     "data": {
      "text/plain": [
       "0.7205761618063949"
      ]
     },
     "execution_count": 4,
     "metadata": {},
     "output_type": "execute_result"
    }
   ],
   "source": [
    "mu=1.0\n",
    "sigma=1.0\n",
    "x=np.arange(-5,5,0.01)\n",
    "psiTest=np.exp(-(x-mu)**2/(2*sigma**2))+np.exp(-(x+mu)**2/(2*sigma**2))\n",
    "norm=np.trapz(psiTest**2,x)\n",
    "np.matmul(np.transpose(psi[0]),np.matmul(H,psi[0]))/(np.dot(psi[0],psi[0]))\n",
    "np.matmul(np.transpose(psiTest),np.matmul(H,psiTest))/(np.dot(psiTest,psiTest))"
   ]
  },
  {
   "cell_type": "code",
   "execution_count": 26,
   "metadata": {},
   "outputs": [
    {
     "data": {
      "text/plain": [
       "-0.4401295171293536"
      ]
     },
     "execution_count": 26,
     "metadata": {},
     "output_type": "execute_result"
    }
   ],
   "source": [
    "hbar = 1\n",
    "m = 1\n",
    "a = 10\n",
    "N = 1000 # number of iterations\n",
    "\n",
    "# Step sizes\n",
    "x = np.linspace(-a/2, a/2, N)\n",
    "dx = x[1] - x[0] # the step size\n",
    "V = Vpot(x)\n",
    "mu=  0.779123 \n",
    "sigma= 0.636836\n",
    "# The central differences method: f\" = (f_1 - 2*f_0 + f_-1)/dx^2\n",
    "psi=np.exp(-(x-mu)**2/(2*sigma**2))+np.exp(-(x+mu)**2/(2*sigma**2))\n",
    "\n",
    "CDiff = np.diag(np.ones(N-1),-1)-2*np.diag(np.ones(N),0)+np.diag(np.ones(N-1),1)\n",
    "# np.diag(np.array,k) construct a \"diagonal\" matrix using the np.array\n",
    "# The default is k=0. Use k>0 for diagonals above the main diagonal, \n",
    "# and k<0 for diagonals below the main diagonal\n",
    "\n",
    "# Hamiltonian matrix\n",
    "H = (-(hbar**2)*CDiff)/(2*m*dx**2) + np.diag(V)\n",
    "np.matmul(np.transpose(psi),np.matmul(H,psi))/np.matmul(np.transpose(psi),psi)"
   ]
  },
  {
   "cell_type": "code",
   "execution_count": 27,
   "metadata": {},
   "outputs": [
    {
     "data": {
      "text/plain": [
       "-0.40624"
      ]
     },
     "execution_count": 27,
     "metadata": {},
     "output_type": "execute_result"
    }
   ],
   "source": [
    " -0.40624"
   ]
  },
  {
   "cell_type": "code",
   "execution_count": 13,
   "metadata": {},
   "outputs": [
    {
     "data": {
      "text/plain": [
       "(1000, 1000)"
      ]
     },
     "execution_count": 13,
     "metadata": {},
     "output_type": "execute_result"
    }
   ],
   "source": [
    "np.shape(H)"
   ]
  },
  {
   "cell_type": "code",
   "execution_count": null,
   "metadata": {},
   "outputs": [],
   "source": []
  }
 ],
 "metadata": {
  "kernelspec": {
   "display_name": "Python 3 (ipykernel)",
   "language": "python",
   "name": "python3"
  },
  "language_info": {
   "codemirror_mode": {
    "name": "ipython",
    "version": 3
   },
   "file_extension": ".py",
   "mimetype": "text/x-python",
   "name": "python",
   "nbconvert_exporter": "python",
   "pygments_lexer": "ipython3",
   "version": "3.8.12"
  }
 },
 "nbformat": 4,
 "nbformat_minor": 4
}
