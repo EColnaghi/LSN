{
 "cells": [
  {
   "cell_type": "code",
   "execution_count": 10,
   "id": "81963963-4042-4448-8fa7-c4e7fd03ff2f",
   "metadata": {},
   "outputs": [],
   "source": [
    "%matplotlib inline\n",
    "import pandas as pd\n",
    "import numpy as np\n",
    "import matplotlib.pylab as plt"
   ]
  },
  {
   "cell_type": "markdown",
   "id": "e9e1d4f5-e1d9-4165-a080-2132e205449a",
   "metadata": {},
   "source": [
    "## Esercizio 1.01 ##\n",
    "In this exercise we are required to test the goodness of a random number generator. To do so we generate random number"
   ]
  },
  {
   "cell_type": "code",
   "execution_count": 11,
   "id": "42acb0e7-24fc-48e7-b031-5f8585bebee6",
   "metadata": {},
   "outputs": [
    {
     "data": {
      "text/html": [
       "<div>\n",
       "<style scoped>\n",
       "    .dataframe tbody tr th:only-of-type {\n",
       "        vertical-align: middle;\n",
       "    }\n",
       "\n",
       "    .dataframe tbody tr th {\n",
       "        vertical-align: top;\n",
       "    }\n",
       "\n",
       "    .dataframe thead th {\n",
       "        text-align: right;\n",
       "    }\n",
       "</style>\n",
       "<table border=\"1\" class=\"dataframe\">\n",
       "  <thead>\n",
       "    <tr style=\"text-align: right;\">\n",
       "      <th></th>\n",
       "      <th>avgs</th>\n",
       "      <th>avgs2</th>\n",
       "      <th>avgErrs</th>\n",
       "      <th>msds</th>\n",
       "      <th>msds2</th>\n",
       "      <th>msdErr</th>\n",
       "    </tr>\n",
       "  </thead>\n",
       "  <tbody>\n",
       "    <tr>\n",
       "      <th>0</th>\n",
       "      <td>0.456646</td>\n",
       "      <td>0.208526</td>\n",
       "      <td>0.000000</td>\n",
       "      <td>0.089040</td>\n",
       "      <td>0.007928</td>\n",
       "      <td>0.000000</td>\n",
       "    </tr>\n",
       "    <tr>\n",
       "      <th>1</th>\n",
       "      <td>0.502985</td>\n",
       "      <td>0.255141</td>\n",
       "      <td>0.046338</td>\n",
       "      <td>0.093619</td>\n",
       "      <td>0.008785</td>\n",
       "      <td>0.004579</td>\n",
       "    </tr>\n",
       "    <tr>\n",
       "      <th>2</th>\n",
       "      <td>0.476028</td>\n",
       "      <td>0.229488</td>\n",
       "      <td>0.037979</td>\n",
       "      <td>0.087620</td>\n",
       "      <td>0.007763</td>\n",
       "      <td>0.006556</td>\n",
       "    </tr>\n",
       "    <tr>\n",
       "      <th>3</th>\n",
       "      <td>0.496012</td>\n",
       "      <td>0.249390</td>\n",
       "      <td>0.033475</td>\n",
       "      <td>0.088946</td>\n",
       "      <td>0.007981</td>\n",
       "      <td>0.004822</td>\n",
       "    </tr>\n",
       "    <tr>\n",
       "      <th>4</th>\n",
       "      <td>0.495708</td>\n",
       "      <td>0.248416</td>\n",
       "      <td>0.025931</td>\n",
       "      <td>0.086714</td>\n",
       "      <td>0.007595</td>\n",
       "      <td>0.004351</td>\n",
       "    </tr>\n",
       "    <tr>\n",
       "      <th>5</th>\n",
       "      <td>0.492961</td>\n",
       "      <td>0.245290</td>\n",
       "      <td>0.021350</td>\n",
       "      <td>0.085259</td>\n",
       "      <td>0.007343</td>\n",
       "      <td>0.003839</td>\n",
       "    </tr>\n",
       "    <tr>\n",
       "      <th>6</th>\n",
       "      <td>0.495493</td>\n",
       "      <td>0.247505</td>\n",
       "      <td>0.018221</td>\n",
       "      <td>0.084046</td>\n",
       "      <td>0.007136</td>\n",
       "      <td>0.003464</td>\n",
       "    </tr>\n",
       "    <tr>\n",
       "      <th>7</th>\n",
       "      <td>0.494858</td>\n",
       "      <td>0.246630</td>\n",
       "      <td>0.015792</td>\n",
       "      <td>0.084747</td>\n",
       "      <td>0.007248</td>\n",
       "      <td>0.003081</td>\n",
       "    </tr>\n",
       "    <tr>\n",
       "      <th>8</th>\n",
       "      <td>0.501828</td>\n",
       "      <td>0.253772</td>\n",
       "      <td>0.015574</td>\n",
       "      <td>0.083677</td>\n",
       "      <td>0.007070</td>\n",
       "      <td>0.002920</td>\n",
       "    </tr>\n",
       "    <tr>\n",
       "      <th>9</th>\n",
       "      <td>0.506394</td>\n",
       "      <td>0.258369</td>\n",
       "      <td>0.014660</td>\n",
       "      <td>0.083451</td>\n",
       "      <td>0.007026</td>\n",
       "      <td>0.002621</td>\n",
       "    </tr>\n",
       "  </tbody>\n",
       "</table>\n",
       "</div>"
      ],
      "text/plain": [
       "       avgs     avgs2   avgErrs      msds     msds2    msdErr\n",
       "0  0.456646  0.208526  0.000000  0.089040  0.007928  0.000000\n",
       "1  0.502985  0.255141  0.046338  0.093619  0.008785  0.004579\n",
       "2  0.476028  0.229488  0.037979  0.087620  0.007763  0.006556\n",
       "3  0.496012  0.249390  0.033475  0.088946  0.007981  0.004822\n",
       "4  0.495708  0.248416  0.025931  0.086714  0.007595  0.004351\n",
       "5  0.492961  0.245290  0.021350  0.085259  0.007343  0.003839\n",
       "6  0.495493  0.247505  0.018221  0.084046  0.007136  0.003464\n",
       "7  0.494858  0.246630  0.015792  0.084747  0.007248  0.003081\n",
       "8  0.501828  0.253772  0.015574  0.083677  0.007070  0.002920\n",
       "9  0.506394  0.258369  0.014660  0.083451  0.007026  0.002621"
      ]
     },
     "execution_count": 11,
     "metadata": {},
     "output_type": "execute_result"
    }
   ],
   "source": [
    "df=pd.read_csv(\"meanBlocking.csv\")\n",
    "df.head(10)"
   ]
  },
  {
   "cell_type": "code",
   "execution_count": 15,
   "id": "707cc614-52cf-4bb9-95e4-745fc7bc36d9",
   "metadata": {},
   "outputs": [
    {
     "data": {
      "image/png": "[encoded data removed]",
      "text/plain": [
       "<Figure size 432x288 with 1 Axes>"
      ]
     },
     "metadata": {
      "needs_background": "light"
     },
     "output_type": "display_data"
    }
   ],
   "source": [
    "df=pd.read_csv(\".\\meanBlocking\\meanBlocking.csv\")\n",
    "N=df.avgs.size;\n",
    "plt.plot(df.avgs,color=\"black\", label=\"cumulative average\")\n",
    "plt.plot(range(N), 0.5*np.ones(N),color=\"black\")\n",
    "plt.errorbar(x=range(N), y=df.avgs, yerr=df.avgErrs);\n",
    "plt.xlabel(\"N\");\n",
    "plt.ylabel(\"<r>\");\n",
    "plt.legend();"
   ]
  },
  {
   "cell_type": "code",
   "execution_count": 16,
   "id": "8489fd3a-a0b6-4c0e-a049-dc4d52c9b2be",
   "metadata": {},
   "outputs": [
    {
     "data": {
      "image/png": "[encoded data removed]",
      "text/plain": [
       "<Figure size 432x288 with 1 Axes>"
      ]
     },
     "metadata": {
      "needs_background": "light"
     },
     "output_type": "display_data"
    }
   ],
   "source": [
    "N=df.msds.size;\n",
    "plt.plot(df.msds,color=\"black\", label=\"cumulative mean MSD\")\n",
    "plt.plot(range(N), np.ones(N)/12,color=\"black\")\n",
    "plt.errorbar(x=range(N), y=df.msds, yerr=df.msdErr);\n",
    "plt.xlabel(\"N\");\n",
    "plt.ylabel(\"<sigma>\");\n",
    "plt.title(\"cumulative mean MSD\")\n",
    "plt.legend();"
   ]
  },
  {
   "cell_type": "code",
   "execution_count": null,
   "id": "a93028a2-f1eb-4b02-aa4d-9286620c3688",
   "metadata": {},
   "outputs": [],
   "source": []
  }
 ],
 "metadata": {
  "kernelspec": {
   "display_name": "Python 3 (ipykernel)",
   "language": "python",
   "name": "python3"
  },
  "language_info": {
   "codemirror_mode": {
    "name": "ipython",
    "version": 3
   },
   "file_extension": ".py",
   "mimetype": "text/x-python",
   "name": "python",
   "nbconvert_exporter": "python",
   "pygments_lexer": "ipython3",
   "version": "3.8.12"
  }
 },
 "nbformat": 4,
 "nbformat_minor": 5
}
