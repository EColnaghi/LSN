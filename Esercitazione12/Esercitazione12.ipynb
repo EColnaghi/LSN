{
 "cells": [
  {
   "cell_type": "code",
   "execution_count": 1,
   "id": "4fc65b56-43b2-4e60-b465-8bc6f9b5c9a3",
   "metadata": {
    "tags": []
   },
   "outputs": [],
   "source": [
    "%matplotlib inline\n",
    "import pandas as pd\n",
    "import numpy as np\n",
    "import matplotlib.pyplot as plt\n",
    "import math\n",
    "import scipy\n",
    "from scipy.special import erf\n",
    "import tensorflow as tf\n",
    "from tensorflow import keras\n",
    "from tensorflow.keras.models import Sequential\n",
    "from tensorflow.keras.layers import Dense, Activation\n",
    "from tensorflow.keras import backend as K\n",
    "from tensorflow.keras.utils import get_custom_objects\n",
    "from mpl_toolkits.mplot3d import Axes3D\n",
    "from keras.optimizers import SGD, Adam, RMSprop, Adagrad, Adadelta, Adam, Adamax, Nadam\n",
    "from keras.models import Sequential\n",
    "from keras.layers import Dense, Dropout, Conv2D, MaxPooling2D,Flatten\n",
    "import PIL"
   ]
  },
  {
   "cell_type": "code",
   "execution_count": 2,
   "id": "3756f0fe-95eb-4f3f-abcb-e4846ec49d44",
   "metadata": {
    "tags": []
   },
   "outputs": [],
   "source": [
    "\n",
    "plt.rcParams[\"figure.figsize\"] = (9, 6)"
   ]
  },
  {
   "cell_type": "markdown",
   "id": "98ec9949-1c2b-40b2-88b3-c14b314ed9d3",
   "metadata": {
    "tags": []
   },
   "source": [
    "## Exercise 12.1 ##\n"
   ]
  },
  {
   "cell_type": "markdown",
   "id": "2d20aeb7-f002-471a-8a3a-dbc5f87aa69e",
   "metadata": {},
   "source": [
    "In this exercise we will compare the results of a deep neural network and a convolutional neural network on the MNIST data set. We can start by loading the dataset:\n"
   ]
  },
  {
   "cell_type": "code",
   "execution_count": 3,
   "id": "24faa0f7-4f32-4620-a5d8-fe5be48070e1",
   "metadata": {},
   "outputs": [
    {
     "name": "stdout",
     "output_type": "stream",
     "text": [
      "X_train shape: (60000, 28, 28)\n",
      "Y_train shape: (60000,)\n"
     ]
    }
   ],
   "source": [
    "from keras.datasets import mnist\n",
    "\n",
    "# input image dimensions\n",
    "img_rows, img_cols = 28, 28 # number of pixels \n",
    "# output\n",
    "num_classes = 10 # 10 digits\n",
    "\n",
    "# the data, split between train and test sets\n",
    "(X_train, Y_train), (X_test, Y_test) = mnist.load_data()\n",
    "\n",
    "print('X_train shape:', X_train.shape)\n",
    "print('Y_train shape:', Y_train.shape)"
   ]
  },
  {
   "cell_type": "code",
   "execution_count": 4,
   "id": "33ad0a6c-a201-49e7-965d-646cd95c3d2d",
   "metadata": {},
   "outputs": [
    {
     "name": "stdout",
     "output_type": "stream",
     "text": [
      "X_train shape: (60000, 784)\n",
      "X_test shape: (10000, 784)\n",
      "\n",
      "an example of a data point with label 4\n"
     ]
    },
    {
     "data": {
      "image/png": "[encoded data removed]",
      "text/plain": [
       "<Figure size 432x432 with 1 Axes>"
      ]
     },
     "metadata": {
      "needs_background": "light"
     },
     "output_type": "display_data"
    },
    {
     "name": "stdout",
     "output_type": "stream",
     "text": [
      "... and with label [0. 0. 0. 0. 1. 0. 0. 0. 0. 0.] after to_categorical\n",
      "\n",
      "X_train shape: (60000, 784)\n",
      "Y_train shape: (60000, 10)\n"
     ]
    }
   ],
   "source": [
    "# reshape data, it could depend on Keras backend\n",
    "X_train = X_train.reshape(X_train.shape[0], img_rows*img_cols)\n",
    "X_test = X_test.reshape(X_test.shape[0], img_rows*img_cols)\n",
    "print('X_train shape:', X_train.shape)\n",
    "print('X_test shape:', X_test.shape)\n",
    "print()\n",
    "\n",
    "# cast floats to single precision\n",
    "X_train = X_train.astype('float32')\n",
    "X_test = X_test.astype('float32')\n",
    "\n",
    "# rescale data in interval [0,1]\n",
    "X_train /= 255\n",
    "X_test /= 255\n",
    "\n",
    "# look at an example of data point\n",
    "print('an example of a data point with label', Y_train[20])\n",
    "# matshow: display a matrix in a new figure window\n",
    "plt.matshow(X_train[20,:].reshape(28,28),cmap='binary')\n",
    "plt.show()\n",
    "\n",
    "# convert class vectors to binary class matrices, e.g. for use with categorical_crossentropy\n",
    "Y_train = keras.utils.to_categorical(Y_train, num_classes)\n",
    "Y_test = keras.utils.to_categorical(Y_test, num_classes)\n",
    "print('... and with label', Y_train[20], 'after to_categorical')\n",
    "print()\n",
    "print('X_train shape:', X_train.shape)\n",
    "print('Y_train shape:', Y_train.shape)"
   ]
  },
  {
   "cell_type": "markdown",
   "id": "01eb9520-9af1-48cd-96a2-27baf3ed0732",
   "metadata": {},
   "source": [
    "Now we train the deep neural network. It will be constituted by 2 dense layer with 50 neuron each, a Dropout layer and a dense output layer, "
   ]
  },
  {
   "cell_type": "code",
   "execution_count": 5,
   "id": "2f95ad43-9c31-4139-8b3f-f453cef6ffde",
   "metadata": {},
   "outputs": [],
   "source": [
    "from keras.models import Sequential\n",
    "from keras.layers import Dense, Dropout\n",
    "def create_model(N1,N2):\n",
    "    # instantiate model\n",
    "    model_DNN = Sequential()\n",
    "    # add a dense all-to-all relu layer\n",
    "    model_DNN.add(Dense(N1,input_shape=(img_rows*img_cols,), activation='relu'))\n",
    "    # add a dense all-to-all relu layer\n",
    "    model_DNN.add(Dense(N2, activation='relu'))\n",
    "    # apply dropout with rate 0.5\n",
    "    model_DNN.add(Dropout(0.5))\n",
    "    # soft-max layer\n",
    "    model_DNN.add(Dense(num_classes, activation='softmax'))\n",
    "    return model_DNN"
   ]
  },
  {
   "cell_type": "markdown",
   "id": "586d88bc-d0c4-4ac0-b9c0-7b8e440d7320",
   "metadata": {},
   "source": [
    "We train the DNN by using three different optimizers, the stochastic gradiend descend, Adam and Adadelta"
   ]
  },
  {
   "cell_type": "code",
   "execution_count": 6,
   "id": "031264d8-edae-4eee-97c7-83e3abbae80d",
   "metadata": {},
   "outputs": [
    {
     "name": "stdout",
     "output_type": "stream",
     "text": [
      "313/313 [==============================] - 1s 2ms/step - loss: 0.1506 - acc: 0.9534\n",
      "313/313 [==============================] - 1s 2ms/step - loss: 0.1127 - acc: 0.9712\n",
      "313/313 [==============================] - 1s 2ms/step - loss: 0.0915 - acc: 0.9750\n",
      "Model: \"sequential\"\n",
      "_________________________________________________________________\n",
      " Layer (type)                Output Shape              Param #   \n",
      "=================================================================\n",
      " dense (Dense)               (None, 50)                39250     \n",
      "                                                                 \n",
      " dense_1 (Dense)             (None, 50)                2550      \n",
      "                                                                 \n",
      " dropout (Dropout)           (None, 50)                0         \n",
      "                                                                 \n",
      " dense_2 (Dense)             (None, 10)                510       \n",
      "                                                                 \n",
      "=================================================================\n",
      "Total params: 42,310\n",
      "Trainable params: 42,310\n",
      "Non-trainable params: 0\n",
      "_________________________________________________________________\n"
     ]
    }
   ],
   "source": [
    "# training parameters\n",
    "batch_size = 32\n",
    "epochs = 10\n",
    "N1=50\n",
    "N2=50\n",
    "\n",
    "keras.backend.clear_session()\n",
    "# train DNN and store training info in history\n",
    "model_DNN=create_model(N1,N2)\n",
    "model_DNN.compile(loss=keras.losses.categorical_crossentropy,\n",
    "              optimizer=SGD(),\n",
    "              metrics=['acc'])\n",
    "historySGD = model_DNN.fit(X_train, Y_train,\n",
    "          batch_size=batch_size,\n",
    "          epochs=epochs,\n",
    "          verbose=0,\n",
    "          validation_data=(X_test, Y_test))\n",
    "scoreSGD = model_DNN.evaluate(X_test, Y_test, verbose=1)\n",
    "\n",
    "keras.backend.clear_session()\n",
    "model_DNN=create_model(N1,N2)\n",
    "model_DNN.compile(loss=keras.losses.categorical_crossentropy,\n",
    "              optimizer=Adam(),\n",
    "              metrics=['acc'])\n",
    "historyAdam = model_DNN.fit(X_train, Y_train,\n",
    "          batch_size=batch_size,\n",
    "          epochs=epochs,\n",
    "          verbose=0,\n",
    "          validation_data=(X_test, Y_test))\n",
    "scoreAdam = model_DNN.evaluate(X_test, Y_test, verbose=1)\n",
    "\n",
    "\n",
    "keras.backend.clear_session()\n",
    "model_DNN=create_model(N1,N2)\n",
    "model_DNN.compile(loss=keras.losses.categorical_crossentropy,\n",
    "              optimizer=Nadam(),\n",
    "              metrics=['acc'])\n",
    "historyAdaDelta = model_DNN.fit(X_train, Y_train,\n",
    "          batch_size=batch_size,\n",
    "          epochs=epochs,\n",
    "          verbose=0,\n",
    "          validation_data=(X_test, Y_test))\n",
    "scoreAdaDelta = model_DNN.evaluate(X_test, Y_test, verbose=1)\n",
    "model_DNN.summary()"
   ]
  },
  {
   "cell_type": "code",
   "execution_count": 7,
   "id": "2ccb4356-f001-47ae-916e-5115038c210b",
   "metadata": {},
   "outputs": [
    {
     "data": {
      "image/png": "[encoded data removed]",
      "text/plain": [
       "<Figure size 648x432 with 1 Axes>"
      ]
     },
     "metadata": {
      "needs_background": "light"
     },
     "output_type": "display_data"
    },
    {
     "data": {
      "text/plain": [
       "Text(0.5, 1.0, 'Accuracy')"
      ]
     },
     "execution_count": 7,
     "metadata": {},
     "output_type": "execute_result"
    },
    {
     "data": {
      "image/png": "[encoded data removed]",
      "text/plain": [
       "<Figure size 648x432 with 1 Axes>"
      ]
     },
     "metadata": {
      "needs_background": "light"
     },
     "output_type": "display_data"
    }
   ],
   "source": [
    "plt.plot(historySGD.history['loss'],label='Stochastic gradient descent')\n",
    "plt.plot(historyAdam.history['loss'],label='Adam')\n",
    "plt.plot(historyAdaDelta.history['loss'],label='AdaDelta')\n",
    "plt.legend()\n",
    "plt.ylabel('Loss function')\n",
    "plt.xlabel('Epoch')\n",
    "plt.title('Loss function')\n",
    "plt.grid()\n",
    "plt.show()\n",
    "plt.plot(historySGD.history['acc'],label='Stochastic gradient descent')\n",
    "plt.plot(historyAdam.history['acc'],label='Adam')\n",
    "plt.plot(historyAdaDelta.history['acc'],label='AdaDelta')\n",
    "plt.legend()\n",
    "plt.ylabel('Accuracy')\n",
    "plt.xlabel('Epoch')\n",
    "plt.grid()\n",
    "plt.title('Accuracy')"
   ]
  },
  {
   "cell_type": "code",
   "execution_count": 8,
   "id": "db212a1e-1fde-411b-bef5-f7eebf2f7044",
   "metadata": {},
   "outputs": [
    {
     "name": "stdout",
     "output_type": "stream",
     "text": [
      "Con lo stochastic gradient descent la loss sui dati di test vale 0.151 e l'accuracy vale 0.953\n",
      "Con Adam la loss sui dati di test vale 0.113 e l'accuracy vale 0.971\n"
     ]
    },
    {
     "ename": "NameError",
     "evalue": "name 'scoreNadam' is not defined",
     "output_type": "error",
     "traceback": [
      "\u001b[1;31m---------------------------------------------------------------------------\u001b[0m",
      "\u001b[1;31mNameError\u001b[0m                                 Traceback (most recent call last)",
      "\u001b[1;32m~\\AppData\\Local\\Temp/ipykernel_524/1346199068.py\u001b[0m in \u001b[0;36m<module>\u001b[1;34m\u001b[0m\n\u001b[0;32m      1\u001b[0m \u001b[0mprint\u001b[0m\u001b[1;33m(\u001b[0m\u001b[1;34mf\"Con lo stochastic gradient descent la loss sui dati di test vale {scoreSGD[0]:0.3f} e l'accuracy vale {scoreSGD[1]:0.3f}\"\u001b[0m\u001b[1;33m)\u001b[0m\u001b[1;33m\u001b[0m\u001b[1;33m\u001b[0m\u001b[0m\n\u001b[0;32m      2\u001b[0m \u001b[0mprint\u001b[0m\u001b[1;33m(\u001b[0m\u001b[1;34mf\"Con Adam la loss sui dati di test vale {scoreAdam[0]:0.3f} e l'accuracy vale {scoreAdam[1]:0.3f}\"\u001b[0m\u001b[1;33m)\u001b[0m\u001b[1;33m\u001b[0m\u001b[1;33m\u001b[0m\u001b[0m\n\u001b[1;32m----> 3\u001b[1;33m \u001b[0mprint\u001b[0m\u001b[1;33m(\u001b[0m\u001b[1;34mf\"Con AdaDelta la loss sui dati di test vale {scoreNadam[0]:0.3f} e l'accuracy vale {scoreNadam[1]:0.3f}\"\u001b[0m\u001b[1;33m)\u001b[0m\u001b[1;33m\u001b[0m\u001b[1;33m\u001b[0m\u001b[0m\n\u001b[0m",
      "\u001b[1;31mNameError\u001b[0m: name 'scoreNadam' is not defined"
     ]
    }
   ],
   "source": [
    "print(f\"Con lo stochastic gradient descent la loss sui dati di test vale {scoreSGD[0]:0.3f} e l'accuracy vale {scoreSGD[1]:0.3f}\")\n",
    "print(f\"Con Adam la loss sui dati di test vale {scoreAdam[0]:0.3f} e l'accuracy vale {scoreAdam[1]:0.3f}\")\n",
    "print(f\"Con AdaDelta la loss sui dati di test vale {scoreAdaDelta[0]:0.3f} e l'accuracy vale {scoreAdaDelta[1]:0.3f}\")"
   ]
  },
  {
   "cell_type": "markdown",
   "id": "d0da5fb9-85c2-43f8-9be8-d10e9da4bb46",
   "metadata": {},
   "source": [
    "As we can see even with a small deep neural netowrk(two fully connected layers, 50 neurons each) we can see a good accuracy. We can wonder how better the network becomes if we make it bigger(for example by adding a layer and by duplicating the number of neurons)"
   ]
  },
  {
   "cell_type": "code",
   "execution_count": null,
   "id": "9c434f20-dc0f-4c47-8cc0-53fb91dacada",
   "metadata": {},
   "outputs": [],
   "source": [
    "# training parameters\n",
    "batch_size = 32\n",
    "epochs = 20\n",
    "N1=100\n",
    "N2=400\n",
    "\n",
    "keras.backend.clear_session()\n",
    "# train DNN and store training info in history\n",
    "model_DNN=create_model(N1,N2)\n",
    "model_DNN.compile(loss=keras.losses.categorical_crossentropy,\n",
    "              optimizer=SGD(),\n",
    "              metrics=['acc'])\n",
    "historySGD = model_DNN.fit(X_train, Y_train,\n",
    "          batch_size=batch_size,\n",
    "          epochs=epochs,\n",
    "          verbose=0,\n",
    "          validation_data=(X_test, Y_test))\n",
    "scoreSGD = model_DNN.evaluate(X_test, Y_test, verbose=1)\n",
    "\n",
    "keras.backend.clear_session()\n",
    "model_DNN=create_model(N1,N2)\n",
    "model_DNN.compile(loss=keras.losses.categorical_crossentropy,\n",
    "              optimizer=Adam(),\n",
    "              metrics=['acc'])\n",
    "historyAdam = model_DNN.fit(X_train, Y_train,\n",
    "          batch_size=batch_size,\n",
    "          epochs=epochs,\n",
    "          verbose=0,\n",
    "          validation_data=(X_test, Y_test))\n",
    "scoreAdam = model_DNN.evaluate(X_test, Y_test, verbose=1)\n",
    "\n",
    "\n",
    "keras.backend.clear_session()\n",
    "model_DNN=create_model(N1,N2)\n",
    "model_DNN.compile(loss=keras.losses.categorical_crossentropy,\n",
    "              optimizer=Nadam(),\n",
    "              metrics=['acc'])\n",
    "historyNadam = model_DNN.fit(X_train, Y_train,\n",
    "          batch_size=batch_size,\n",
    "          epochs=epochs,\n",
    "          verbose=0,\n",
    "          validation_data=(X_test, Y_test))\n",
    "scoreNadam = model_DNN.evaluate(X_test, Y_test, verbose=1)\n",
    "model_DNN.summary()"
   ]
  },
  {
   "cell_type": "code",
   "execution_count": null,
   "id": "cd11eec3-8a29-4f61-b6c8-ab52b09bfd11",
   "metadata": {},
   "outputs": [],
   "source": [
    "plt.plot(historySGD.history['loss'],label='Stochastic gradient descent')\n",
    "plt.plot(historyAdam.history['loss'],label='Adam')\n",
    "plt.plot(historyNadam.history['loss'],label='AdaDelta')\n",
    "plt.legend()\n",
    "plt.ylabel('Loss function')\n",
    "plt.xlabel('Epoch')\n",
    "plt.title('Loss function')\n",
    "plt.grid()\n",
    "plt.show()\n",
    "plt.plot(historySGD.history['acc'],label='Stochastic gradient descent')\n",
    "plt.plot(historyAdam.history['acc'],label='Adam')\n",
    "plt.plot(historyNadam.history['acc'],label='AdaDelta')\n",
    "plt.legend()\n",
    "plt.ylabel('Accuracy')\n",
    "plt.xlabel('Epoch')\n",
    "plt.grid()\n",
    "plt.title('Accuracy')\n"
   ]
  },
  {
   "cell_type": "markdown",
   "id": "7586b1e7-3b09-40f3-8d56-1761e325ad2b",
   "metadata": {},
   "source": [
    "## Exercise 12.02 ##\n",
    "We can now go on and use a convolutional neural network to classify the data. The convolutional neural network have the advantage of intrinsical translational invariance, and are widely used in image processing.\n",
    "We use a network with two convolutional layers, two maxpooling layers (which operates a sort of coarse graining), a layer that flatten, a dropout layer and a dense output layer."
   ]
  },
  {
   "cell_type": "code",
   "execution_count": 9,
   "id": "17237caa-8893-4db2-95f9-8a135f15b5e9",
   "metadata": {},
   "outputs": [],
   "source": [
    "(X_train, Y_train), (X_test, Y_test) = mnist.load_data()\n",
    "epochs=20\n",
    "Y_train = keras.utils.to_categorical(Y_train, num_classes)\n",
    "Y_test = keras.utils.to_categorical(Y_test, num_classes)"
   ]
  },
  {
   "cell_type": "code",
   "execution_count": 10,
   "id": "cefb95da-fdd2-480c-8a82-2a618a8b34ad",
   "metadata": {},
   "outputs": [
    {
     "name": "stdout",
     "output_type": "stream",
     "text": [
      "Model: \"sequential_1\"\n",
      "_________________________________________________________________\n",
      " Layer (type)                Output Shape              Param #   \n",
      "=================================================================\n",
      " conv2d (Conv2D)             (None, 26, 26, 32)        320       \n",
      "                                                                 \n",
      " max_pooling2d (MaxPooling2D  (None, 13, 13, 32)       0         \n",
      " )                                                               \n",
      "                                                                 \n",
      " conv2d_1 (Conv2D)           (None, 11, 11, 64)        18496     \n",
      "                                                                 \n",
      " max_pooling2d_1 (MaxPooling  (None, 5, 5, 64)         0         \n",
      " 2D)                                                             \n",
      "                                                                 \n",
      " flatten (Flatten)           (None, 1600)              0         \n",
      "                                                                 \n",
      " dropout_1 (Dropout)         (None, 1600)              0         \n",
      "                                                                 \n",
      " dense_3 (Dense)             (None, 10)                16010     \n",
      "                                                                 \n",
      "=================================================================\n",
      "Total params: 34,826\n",
      "Trainable params: 34,826\n",
      "Non-trainable params: 0\n",
      "_________________________________________________________________\n"
     ]
    }
   ],
   "source": [
    "input_shape=(img_rows,img_cols,1)\n",
    "#the CNN is formed by two convolutional layers, with 3X3 filter size\n",
    "model_CNN = keras.Sequential(\n",
    "    [\n",
    "        keras.Input(shape=input_shape),\n",
    "        keras.layers.Conv2D(32, kernel_size=(3, 3), activation=\"relu\"),\n",
    "        keras.layers.MaxPooling2D(pool_size=(2, 2)),\n",
    "        keras.layers.Conv2D(64, kernel_size=(3, 3), activation=\"relu\"),\n",
    "        keras.layers.MaxPooling2D(pool_size=(2, 2)),\n",
    "        keras.layers.Flatten(),\n",
    "        keras.layers.Dropout(0.5),\n",
    "        keras.layers.Dense(num_classes, activation=\"softmax\"),\n",
    "    ]\n",
    ")\n",
    "\n",
    "model_CNN.summary()"
   ]
  },
  {
   "cell_type": "markdown",
   "id": "fb87330f-15e8-4843-8810-8aabca0a5fb9",
   "metadata": {},
   "source": []
  },
  {
   "cell_type": "code",
   "execution_count": 11,
   "id": "308dbdc0-1512-469f-b0ec-deb804e31c3c",
   "metadata": {},
   "outputs": [
    {
     "name": "stdout",
     "output_type": "stream",
     "text": [
      "Epoch 1/20\n",
      "1875/1875 [==============================] - 23s 12ms/step - loss: 2.0537 - acc: 0.3883 - val_loss: 0.6069 - val_acc: 0.8310\n",
      "Epoch 2/20\n",
      "1875/1875 [==============================] - 21s 11ms/step - loss: 0.6004 - acc: 0.8102 - val_loss: 0.3296 - val_acc: 0.9045\n",
      "Epoch 3/20\n",
      "1875/1875 [==============================] - 22s 12ms/step - loss: 0.4309 - acc: 0.8656 - val_loss: 0.2647 - val_acc: 0.9200\n",
      "Epoch 4/20\n",
      "1875/1875 [==============================] - 22s 11ms/step - loss: 0.3671 - acc: 0.8851 - val_loss: 0.2332 - val_acc: 0.9260\n",
      "Epoch 5/20\n",
      "1875/1875 [==============================] - 21s 11ms/step - loss: 0.3312 - acc: 0.8969 - val_loss: 0.2090 - val_acc: 0.9335\n",
      "Epoch 6/20\n",
      "1875/1875 [==============================] - 21s 11ms/step - loss: 0.3079 - acc: 0.9023 - val_loss: 0.1909 - val_acc: 0.9406\n",
      "Epoch 7/20\n",
      "1875/1875 [==============================] - 22s 12ms/step - loss: 0.2852 - acc: 0.9109 - val_loss: 0.1779 - val_acc: 0.9456\n",
      "Epoch 8/20\n",
      "1875/1875 [==============================] - 22s 12ms/step - loss: 0.2715 - acc: 0.9148 - val_loss: 0.1693 - val_acc: 0.9488\n",
      "Epoch 9/20\n",
      "1875/1875 [==============================] - 21s 11ms/step - loss: 0.2578 - acc: 0.9196 - val_loss: 0.1506 - val_acc: 0.9542\n",
      "Epoch 10/20\n",
      "1875/1875 [==============================] - 21s 11ms/step - loss: 0.2512 - acc: 0.9214 - val_loss: 0.1599 - val_acc: 0.9501\n",
      "Epoch 11/20\n",
      "1875/1875 [==============================] - 21s 11ms/step - loss: 0.2448 - acc: 0.9234 - val_loss: 0.1525 - val_acc: 0.9541\n",
      "Epoch 12/20\n",
      "1875/1875 [==============================] - 21s 11ms/step - loss: 0.2419 - acc: 0.9238 - val_loss: 0.1430 - val_acc: 0.9561\n",
      "Epoch 13/20\n",
      "1875/1875 [==============================] - 22s 12ms/step - loss: 0.2347 - acc: 0.9261 - val_loss: 0.1354 - val_acc: 0.9574\n",
      "Epoch 14/20\n",
      "1875/1875 [==============================] - 22s 12ms/step - loss: 0.2328 - acc: 0.9267 - val_loss: 0.1492 - val_acc: 0.9529\n",
      "Epoch 15/20\n",
      "1875/1875 [==============================] - 21s 11ms/step - loss: 0.2345 - acc: 0.9252 - val_loss: 0.1412 - val_acc: 0.9552\n",
      "Epoch 16/20\n",
      "1875/1875 [==============================] - 23s 12ms/step - loss: 0.2266 - acc: 0.9298 - val_loss: 0.1460 - val_acc: 0.9528\n",
      "Epoch 17/20\n",
      "1875/1875 [==============================] - 21s 11ms/step - loss: 0.2286 - acc: 0.9288 - val_loss: 0.1429 - val_acc: 0.9575\n",
      "Epoch 18/20\n",
      "1875/1875 [==============================] - 21s 11ms/step - loss: 0.2283 - acc: 0.9284 - val_loss: 0.1366 - val_acc: 0.9580\n",
      "Epoch 19/20\n",
      "1875/1875 [==============================] - 21s 11ms/step - loss: 0.2287 - acc: 0.9291 - val_loss: 0.1374 - val_acc: 0.9570\n",
      "Epoch 20/20\n",
      "1875/1875 [==============================] - 21s 11ms/step - loss: 0.2245 - acc: 0.9293 - val_loss: 0.1643 - val_acc: 0.9486\n",
      "313/313 [==============================] - 1s 4ms/step - loss: 0.1643 - acc: 0.9486\n",
      "Epoch 1/20\n",
      "1875/1875 [==============================] - 22s 11ms/step - loss: 0.5965 - acc: 0.8919 - val_loss: 0.0750 - val_acc: 0.9745\n",
      "Epoch 2/20\n",
      "1875/1875 [==============================] - 21s 11ms/step - loss: 0.1421 - acc: 0.9575 - val_loss: 0.0611 - val_acc: 0.9804\n",
      "Epoch 3/20\n",
      "1875/1875 [==============================] - 21s 11ms/step - loss: 0.1147 - acc: 0.9658 - val_loss: 0.0581 - val_acc: 0.9831\n",
      "Epoch 4/20\n",
      "1875/1875 [==============================] - 21s 11ms/step - loss: 0.1000 - acc: 0.9695 - val_loss: 0.0488 - val_acc: 0.9851\n",
      "Epoch 5/20\n",
      "1875/1875 [==============================] - 21s 11ms/step - loss: 0.0882 - acc: 0.9731 - val_loss: 0.0479 - val_acc: 0.9852\n",
      "Epoch 6/20\n",
      "1875/1875 [==============================] - 23s 12ms/step - loss: 0.0837 - acc: 0.9748 - val_loss: 0.0491 - val_acc: 0.9836\n",
      "Epoch 7/20\n",
      "1875/1875 [==============================] - 21s 11ms/step - loss: 0.0793 - acc: 0.9761 - val_loss: 0.0342 - val_acc: 0.9888\n",
      "Epoch 8/20\n",
      "1875/1875 [==============================] - 22s 12ms/step - loss: 0.0780 - acc: 0.9765 - val_loss: 0.0442 - val_acc: 0.9862\n",
      "Epoch 9/20\n",
      "1875/1875 [==============================] - 22s 12ms/step - loss: 0.0709 - acc: 0.9787 - val_loss: 0.0396 - val_acc: 0.9887\n",
      "Epoch 10/20\n",
      "1875/1875 [==============================] - 22s 12ms/step - loss: 0.0764 - acc: 0.9780 - val_loss: 0.0360 - val_acc: 0.9877\n",
      "Epoch 11/20\n",
      "1875/1875 [==============================] - 22s 12ms/step - loss: 0.0720 - acc: 0.9790 - val_loss: 0.0383 - val_acc: 0.9888\n",
      "Epoch 12/20\n",
      "1875/1875 [==============================] - 22s 12ms/step - loss: 0.0673 - acc: 0.9792 - val_loss: 0.0473 - val_acc: 0.9867\n",
      "Epoch 13/20\n",
      "1875/1875 [==============================] - 22s 11ms/step - loss: 0.0645 - acc: 0.9807 - val_loss: 0.0490 - val_acc: 0.9871\n",
      "Epoch 14/20\n",
      "1875/1875 [==============================] - 21s 11ms/step - loss: 0.0651 - acc: 0.9801 - val_loss: 0.0392 - val_acc: 0.9883\n",
      "Epoch 15/20\n",
      "1875/1875 [==============================] - 22s 12ms/step - loss: 0.0628 - acc: 0.9816 - val_loss: 0.0416 - val_acc: 0.9869\n",
      "Epoch 16/20\n",
      "1875/1875 [==============================] - 22s 12ms/step - loss: 0.0640 - acc: 0.9811 - val_loss: 0.0340 - val_acc: 0.9901\n",
      "Epoch 17/20\n",
      "1875/1875 [==============================] - 22s 12ms/step - loss: 0.0638 - acc: 0.9814 - val_loss: 0.0349 - val_acc: 0.9894\n",
      "Epoch 18/20\n",
      "1875/1875 [==============================] - 21s 11ms/step - loss: 0.0632 - acc: 0.9816 - val_loss: 0.0356 - val_acc: 0.9893\n",
      "Epoch 19/20\n",
      "1875/1875 [==============================] - 21s 11ms/step - loss: 0.0618 - acc: 0.9818 - val_loss: 0.0411 - val_acc: 0.9879\n",
      "Epoch 20/20\n",
      "1875/1875 [==============================] - 21s 11ms/step - loss: 0.0610 - acc: 0.9817 - val_loss: 0.0554 - val_acc: 0.9869\n",
      "313/313 [==============================] - 1s 4ms/step - loss: 0.0554 - acc: 0.9869\n"
     ]
    }
   ],
   "source": [
    "#train the convolutional neural network\n",
    "model_CNN.compile(loss=keras.losses.categorical_crossentropy,\n",
    "              optimizer=SGD(),\n",
    "              metrics=['acc'])\n",
    "wsave=model_CNN.get_weights()\n",
    "\n",
    "historySGD_CNN = model_CNN.fit(X_train, Y_train,\n",
    "          batch_size=batch_size,\n",
    "          epochs=epochs,\n",
    "          verbose=1,\n",
    "          validation_data=(X_test, Y_test))\n",
    "scoreSGD_CNN = model_CNN.evaluate(X_test, Y_test, verbose=1)\n",
    "model_CNN.set_weights(wsave)\n",
    "\n",
    "#do the same using ADAM as optimizer\n",
    "model_CNN.compile(loss=keras.losses.categorical_crossentropy,\n",
    "              optimizer=Adam(),\n",
    "              metrics=['acc'])\n",
    "wsave=model_CNN.get_weights()\n",
    "historyAdam_CNN = model_CNN.fit(X_train, Y_train,\n",
    "          batch_size=batch_size,\n",
    "          epochs=epochs,\n",
    "          verbose=1,\n",
    "          validation_data=(X_test, Y_test))\n",
    "scoreAdam_CNN = model_CNN.evaluate(X_test, Y_test, verbose=1)"
   ]
  },
  {
   "cell_type": "code",
   "execution_count": 12,
   "id": "9220b446-f858-43d0-923b-9e3d0ce2fa2d",
   "metadata": {},
   "outputs": [
    {
     "data": {
      "image/png": "[encoded data removed]",
      "text/plain": [
       "<Figure size 648x432 with 1 Axes>"
      ]
     },
     "metadata": {
      "needs_background": "light"
     },
     "output_type": "display_data"
    },
    {
     "data": {
      "text/plain": [
       "Text(0.5, 1.0, 'Accuracy')"
      ]
     },
     "execution_count": 12,
     "metadata": {},
     "output_type": "execute_result"
    },
    {
     "data": {
      "image/png": "[encoded data removed]",
      "text/plain": [
       "<Figure size 648x432 with 1 Axes>"
      ]
     },
     "metadata": {
      "needs_background": "light"
     },
     "output_type": "display_data"
    }
   ],
   "source": [
    "plt.plot(historySGD_CNN.history['loss'],label='Stochastic gradient descent')\n",
    "plt.plot(historyAdam_CNN.history['loss'],label='Adam')\n",
    "plt.legend()\n",
    "plt.ylabel('Loss function')\n",
    "plt.xlabel('Epoch')\n",
    "plt.title('Loss function')\n",
    "plt.grid()\n",
    "plt.show()\n",
    "plt.plot(historySGD_CNN.history['acc'],label='Stochastic gradient descent')\n",
    "plt.plot(historyAdam_CNN.history['acc'],label='Adam')\n",
    "plt.legend()\n",
    "plt.ylabel('Accuracy')\n",
    "plt.xlabel('Epoch')\n",
    "plt.grid()\n",
    "plt.title('Accuracy')"
   ]
  },
  {
   "cell_type": "markdown",
   "id": "85be28bd-a71a-4d97-9e32-5c405ead0a1b",
   "metadata": {},
   "source": [
    "As we can see both networks reach a higher accuracy than the deep neural networks counterpart, but we have to wonder whether the gain in accuracy, which is at most some percentage points, is worth the time we spent in training the neural netowrkds"
   ]
  },
  {
   "cell_type": "code",
   "execution_count": 13,
   "id": "bde4d3e1-084f-467e-b908-35ca8df6464b",
   "metadata": {},
   "outputs": [
    {
     "name": "stdout",
     "output_type": "stream",
     "text": [
      "313/313 [==============================] - 1s 4ms/step\n"
     ]
    },
    {
     "data": {
      "image/png": "[encoded data removed]",
      "text/plain": [
       "<Figure size 1080x1080 with 5 Axes>"
      ]
     },
     "metadata": {
      "needs_background": "light"
     },
     "output_type": "display_data"
    }
   ],
   "source": [
    "predictions = model_CNN.predict(X_test)\n",
    "\n",
    "plt.figure(figsize=(15, 15)) \n",
    "for i in range(5):    \n",
    "    ax = plt.subplot(2, 10, i + 1)    \n",
    "    plt.imshow(X_test[i], cmap='gray')    \n",
    "    plt.title(\"Digit: {}\\nPredicted:    {}\".format(np.argmax(Y_test[i]), np.argmax(predictions[i])))    \n",
    "    plt.axis('off') \n",
    "plt.tight_layout()\n",
    "plt.show()"
   ]
  },
  {
   "cell_type": "markdown",
   "id": "a74ffe25-2583-43e2-969d-96877a843287",
   "metadata": {},
   "source": [
    "## Exercise 12.03 ##\n",
    "In the end we can try to use the neural networks we just trained to see if they recognize some handwritten digits. To do so "
   ]
  },
  {
   "cell_type": "code",
   "execution_count": null,
   "id": "760b41db-fd33-48f8-a0f5-424f683aa748",
   "metadata": {},
   "outputs": [],
   "source": [
    "X_test_mine= np.zeros([27,28,28])\n",
    "Y_test_mine= np.empty(27)\n",
    "for i in range(1,10):\n",
    "    for j in range(1,4):\n",
    "        image = PIL.Image.open(f\"./myImages/{i}%{j}.png\").convert('L')\n",
    "        array=np.asarray(image)\n",
    "        X_test_mine[(i-1)*3+j-1]=array\n",
    "        Y_test_mine[(i-1)*3+j-1]=i\n",
    "\n",
    "Y_test_mine = keras.utils.to_categorical(Y_test_mine, num_classes)"
   ]
  },
  {
   "cell_type": "code",
   "execution_count": null,
   "id": "7a4772ef-3fce-4577-b719-57b3cf32262a",
   "metadata": {},
   "outputs": [],
   "source": [
    "predictions = model_CNN.predict(X_test_mine)\n",
    "score_CNN = model_CNN.evaluate(X_test_mine, Y_test_mine, verbose=1)\n",
    "plt.figure(figsize=(15, 15)) \n",
    "for i in range(27):    \n",
    "    ax = plt.subplot(3, 9, i + 1)    \n",
    "    plt.imshow(X_test_mine[i], cmap='gray')    \n",
    "    plt.title(\"Digit: {}\\nPredicted:    {}\".format(np.argmax(Y_test_mine[i]), np.argmax(predictions[i])))    \n",
    "    plt.axis('off') \n",
    "plt.tight_layout()\n",
    "plt.suptitle('CNN classification')\n",
    "plt.show()"
   ]
  },
  {
   "cell_type": "code",
   "execution_count": null,
   "id": "a44b7d0e-b893-430c-bbbf-331c81c75349",
   "metadata": {},
   "outputs": [],
   "source": [
    "\n",
    "X_test_mine = X_test_mine.reshape(X_test_mine.shape[0], img_rows*img_cols)\n",
    "score_DNN = model_DNN.evaluate(X_test_mine, Y_test_mine, verbose=1)\n",
    "predictions = model_DNN.predict(X_test_mine)\n",
    "\n",
    "plt.figure(figsize=(15, 15)) \n",
    "for i in range(27):    \n",
    "    ax = plt.subplot(3, 9, i + 1)    \n",
    "    plt.imshow(X_test_mine[i].reshape(img_rows,img_cols), cmap='gray')    \n",
    "    plt.title(\"Digit: {}\\nPredicted:    {}\".format(np.argmax(Y_test_mine[i]), np.argmax(predictions[i])))    \n",
    "    plt.axis('off') \n",
    "plt.tight_layout()\n",
    "plt.suptitle('DNN classification')\n",
    "plt.show()"
   ]
  },
  {
   "cell_type": "markdown",
   "id": "6d493baa-9244-4d18-b2f2-c44cd2c18d3a",
   "metadata": {
    "tags": []
   },
   "source": [
    "Here we see a notable result. While the CNN and the DNN reached an accuracy of $>0.95$ on the MNIST dataset, when introducing our handwritten digits the CNN retains an accuracy of $\\approx 0.80$ while the DNN drops to an accuracy of $\\approx 0.6$. These are not MNIST data, so they could be different from the data the networks are trained on (the pen might be larger, the white balance could be different, and so on), so we are effectively trying to extrapolate.\n",
    "The CNN is more robust to this process."
   ]
  },
  {
   "cell_type": "markdown",
   "id": "3566d706-8e1b-4e4d-90e5-1df2a20cff1b",
   "metadata": {},
   "source": [
    "##  Watching the filters #"
   ]
  },
  {
   "cell_type": "markdown",
   "id": "78dfae11-66e6-4dba-99bb-1b72e9a62bb6",
   "metadata": {},
   "source": [
    "We can try to see the filters of the convolutional layers. While the weights are not easy to understand to a human, but maybe the filters resemble some recognizable features of the numbers."
   ]
  },
  {
   "cell_type": "code",
   "execution_count": 19,
   "id": "eaf2a8b9-80f9-4bc5-9d5e-cfe272459415",
   "metadata": {},
   "outputs": [
    {
     "name": "stdout",
     "output_type": "stream",
     "text": [
      "Model: \"sequential_2\"\n",
      "_________________________________________________________________\n",
      " Layer (type)                Output Shape              Param #   \n",
      "=================================================================\n",
      " conv2d_2 (Conv2D)           (None, 22, 22, 32)        1600      \n",
      "                                                                 \n",
      " max_pooling2d_2 (MaxPooling  (None, 11, 11, 32)       0         \n",
      " 2D)                                                             \n",
      "                                                                 \n",
      " conv2d_3 (Conv2D)           (None, 9, 9, 64)          18496     \n",
      "                                                                 \n",
      " max_pooling2d_3 (MaxPooling  (None, 4, 4, 64)         0         \n",
      " 2D)                                                             \n",
      "                                                                 \n",
      " flatten_1 (Flatten)         (None, 1024)              0         \n",
      "                                                                 \n",
      " dropout_2 (Dropout)         (None, 1024)              0         \n",
      "                                                                 \n",
      " dense_4 (Dense)             (None, 10)                10250     \n",
      "                                                                 \n",
      "=================================================================\n",
      "Total params: 30,346\n",
      "Trainable params: 30,346\n",
      "Non-trainable params: 0\n",
      "_________________________________________________________________\n"
     ]
    }
   ],
   "source": [
    "input_shape=(img_rows,img_cols,1)\n",
    "#the CNN is formed by two convolutional layers, with 3X3 filter size\n",
    "model_CNN2 = keras.Sequential(\n",
    "    [\n",
    "        keras.Input(shape=input_shape),\n",
    "        keras.layers.Conv2D(32, kernel_size=(7, 7), activation=\"relu\"),\n",
    "        keras.layers.MaxPooling2D(pool_size=(2, 2)),\n",
    "        keras.layers.Conv2D(64, kernel_size=(3, 3), activation=\"relu\"),\n",
    "        keras.layers.MaxPooling2D(pool_size=(2, 2)),\n",
    "        keras.layers.Flatten(),\n",
    "        keras.layers.Dropout(0.5),\n",
    "        keras.layers.Dense(num_classes, activation=\"softmax\"),\n",
    "    ]\n",
    ")\n",
    "\n",
    "model_CNN2.summary()"
   ]
  },
  {
   "cell_type": "code",
   "execution_count": 20,
   "id": "152682e7-70df-463f-b940-52176cf349f4",
   "metadata": {},
   "outputs": [
    {
     "name": "stdout",
     "output_type": "stream",
     "text": [
      "Epoch 1/20\n",
      "1875/1875 [==============================] - 23s 12ms/step - loss: 0.0623 - acc: 0.9825 - val_loss: 0.0554 - val_acc: 0.9863\n",
      "Epoch 2/20\n",
      "1875/1875 [==============================] - 23s 12ms/step - loss: 0.0612 - acc: 0.9826 - val_loss: 0.0353 - val_acc: 0.9898\n",
      "Epoch 3/20\n",
      "1875/1875 [==============================] - 23s 12ms/step - loss: 0.0619 - acc: 0.9815 - val_loss: 0.0452 - val_acc: 0.9883\n",
      "Epoch 4/20\n",
      "1875/1875 [==============================] - 23s 12ms/step - loss: 0.0630 - acc: 0.9817 - val_loss: 0.0391 - val_acc: 0.9887\n",
      "Epoch 5/20\n",
      "1875/1875 [==============================] - 24s 13ms/step - loss: 0.0606 - acc: 0.9821 - val_loss: 0.0337 - val_acc: 0.9904\n",
      "Epoch 6/20\n",
      "1875/1875 [==============================] - 24s 13ms/step - loss: 0.0618 - acc: 0.9826 - val_loss: 0.0497 - val_acc: 0.9875\n",
      "Epoch 7/20\n",
      "1875/1875 [==============================] - 23s 12ms/step - loss: 0.0593 - acc: 0.9833 - val_loss: 0.0468 - val_acc: 0.9889\n",
      "Epoch 8/20\n",
      "1875/1875 [==============================] - 23s 12ms/step - loss: 0.0629 - acc: 0.9826 - val_loss: 0.0411 - val_acc: 0.9882\n",
      "Epoch 9/20\n",
      "1875/1875 [==============================] - 23s 12ms/step - loss: 0.0605 - acc: 0.9830 - val_loss: 0.0489 - val_acc: 0.9888\n",
      "Epoch 10/20\n",
      "1875/1875 [==============================] - 25s 13ms/step - loss: 0.0585 - acc: 0.9833 - val_loss: 0.0375 - val_acc: 0.9898\n",
      "Epoch 11/20\n",
      "1875/1875 [==============================] - 23s 12ms/step - loss: 0.0598 - acc: 0.9831 - val_loss: 0.0477 - val_acc: 0.9871\n",
      "Epoch 12/20\n",
      "1875/1875 [==============================] - 23s 12ms/step - loss: 0.0579 - acc: 0.9834 - val_loss: 0.0484 - val_acc: 0.9874\n",
      "Epoch 13/20\n",
      "1875/1875 [==============================] - 24s 13ms/step - loss: 0.0576 - acc: 0.9832 - val_loss: 0.0448 - val_acc: 0.9873\n",
      "Epoch 14/20\n",
      "1875/1875 [==============================] - 25s 13ms/step - loss: 0.0600 - acc: 0.9826 - val_loss: 0.0410 - val_acc: 0.9899\n",
      "Epoch 15/20\n",
      "1875/1875 [==============================] - 24s 13ms/step - loss: 0.0600 - acc: 0.9832 - val_loss: 0.0420 - val_acc: 0.9903\n",
      "Epoch 16/20\n",
      "1875/1875 [==============================] - 24s 13ms/step - loss: 0.0540 - acc: 0.9845 - val_loss: 0.0483 - val_acc: 0.9889\n",
      "Epoch 17/20\n",
      "1875/1875 [==============================] - 25s 13ms/step - loss: 0.0581 - acc: 0.9838 - val_loss: 0.0429 - val_acc: 0.9886\n",
      "Epoch 18/20\n",
      "1875/1875 [==============================] - 24s 13ms/step - loss: 0.0563 - acc: 0.9836 - val_loss: 0.0386 - val_acc: 0.9901\n",
      "Epoch 19/20\n",
      "1875/1875 [==============================] - 24s 13ms/step - loss: 0.0595 - acc: 0.9829 - val_loss: 0.0397 - val_acc: 0.9878\n",
      "Epoch 20/20\n",
      "1875/1875 [==============================] - 23s 12ms/step - loss: 0.0554 - acc: 0.9844 - val_loss: 0.0466 - val_acc: 0.9882\n"
     ]
    }
   ],
   "source": [
    "#train the neural network using ADAM as optimizer\n",
    "model_CNN2.compile(loss=keras.losses.categorical_crossentropy,\n",
    "              optimizer=Adam(),\n",
    "              metrics=['acc'])\n",
    "historyAdam_CNN2 = model_CNN.fit(X_train, Y_train,\n",
    "          batch_size=batch_size,\n",
    "          epochs=epochs,\n",
    "          verbose=1,\n",
    "          validation_data=(X_test, Y_test))"
   ]
  },
  {
   "cell_type": "code",
   "execution_count": 21,
   "id": "7706f4f0-5bc3-429c-90bb-f022bca6ad05",
   "metadata": {},
   "outputs": [
    {
     "name": "stdout",
     "output_type": "stream",
     "text": [
      "313/313 [==============================] - 1s 5ms/step - loss: 0.0466 - acc: 0.9882\n"
     ]
    }
   ],
   "source": [
    "scoreAdam_CNN2 = model_CNN.evaluate(X_test, Y_test, verbose=1)"
   ]
  },
  {
   "cell_type": "code",
   "execution_count": 22,
   "id": "04b0ee10-bb6e-443f-ab14-919f9a64bc62",
   "metadata": {},
   "outputs": [],
   "source": [
    "# layer_index should be the index of a convolutional layer\n",
    "layer_index=0\n",
    "# retrieve weights from the convolutional hidden layer\n",
    "filters, biases = model_CNN2.layers[layer_index].get_weights()\n",
    "# normalize filter values to 0-1 so we can visualize them\n",
    "f_min, f_max = filters.min(), filters.max()\n",
    "filters = (filters - f_min) / (f_max - f_min)\n",
    "print(filters.shape)\n",
    "\n",
    "# plot filters\n",
    "n_filters, ix = filters.shape[3], 1\n",
    "for i in range(n_filters):\n",
    "    # get the filter\n",
    "    f = filters[:, :, :, i]\n",
    "    # specify subplot and turn of axis\n",
    "    ax = plt.subplot(2,int(n_filters/2), ix)\n",
    "    ax.set_xticks([])\n",
    "    ax.set_yticks([])\n",
    "    # plot filter channel in grayscale\n",
    "    plt.imshow(f[:, :, 0], cmap='gray')\n",
    "    ix += 1\n",
    "# show the figure\n",
    "plt.show()"
   ]
  },
  {
   "cell_type": "markdown",
   "id": "15effd89-00e9-418d-b1c0-b8ead9068fc3",
   "metadata": {},
   "source": [
    "Here we don't see any recognizable feature"
   ]
  },
  {
   "cell_type": "markdown",
   "id": "bb93509e-fbb5-4b0d-b67a-6b9df2290832",
   "metadata": {},
   "source": [
    "## Conclusions ##\n",
    "In this notebook we explored the results of some simple deep and convolutional neural network on a standard dataset, the MNIST. There are countless possible improvements, this is an active research area. The easiest thing we could implement is data augmentation: we could take the dataset, operates some small transformation on the images and train the neural networks on this new dataset.\n",
    "While we didn't put it in the final notebook, we also tried some other optimizers and to vary the learning rate. The effect are negligible on this dataset, which is sometimes called *the `hello world` of deep learning*, and we lack the knowledge to comment on the differences"
   ]
  },
  {
   "cell_type": "code",
   "execution_count": null,
   "id": "1a0186a9-8e3e-461f-8f75-0f8e0afe7f7c",
   "metadata": {},
   "outputs": [],
   "source": []
  }
 ],
 "metadata": {
  "kernelspec": {
   "display_name": "Python 3 (ipykernel)",
   "language": "python",
   "name": "python3"
  },
  "language_info": {
   "codemirror_mode": {
    "name": "ipython",
    "version": 3
   },
   "file_extension": ".py",
   "mimetype": "text/x-python",
   "name": "python",
   "nbconvert_exporter": "python",
   "pygments_lexer": "ipython3",
   "version": "3.8.12"
  }
 },
 "nbformat": 4,
 "nbformat_minor": 5
}
